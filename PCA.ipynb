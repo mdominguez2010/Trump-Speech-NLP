{
 "cells": [
  {
   "cell_type": "markdown",
   "metadata": {},
   "source": [
    "# Import Dependencies"
   ]
  },
  {
   "cell_type": "code",
   "execution_count": 99,
   "metadata": {
    "ExecuteTime": {
     "end_time": "2020-11-04T23:08:27.320978Z",
     "start_time": "2020-11-04T23:08:27.315385Z"
    }
   },
   "outputs": [],
   "source": [
    "import re\n",
    "import pickle\n",
    "import string\n",
    "import numpy as np\n",
    "import pandas as pd\n",
    "pd.options.mode.chained_assignment = None \n",
    "\n",
    "import spacy\n",
    "from spacy.lang.en.stop_words import STOP_WORDS\n",
    "from spacy.lang.en import English\n",
    "from spacy import displacy, lemmatizer\n",
    "\n",
    "from gensim.models import word2vec\n",
    "\n",
    "from sklearn.feature_extraction.text import CountVectorizer, TfidfVectorizer\n",
    "from sklearn.decomposition import LatentDirichletAllocation\n",
    "from sklearn.model_selection import train_test_split\n",
    "from sklearn.decomposition import PCA\n",
    "from sklearn.manifold import TSNE\n",
    "from sklearn.preprocessing import scale\n",
    "from sklearn.manifold.t_sne import (_joint_probabilities,\n",
    "                                    _kl_divergence)\n",
    "import seaborn as sns\n",
    "import matplotlib.pyplot as plt\n",
    "\n",
    "# Custom functions from .py files\n",
    "from web_scrape import get_transcript\n",
    "from preprocess import clean, preprocess"
   ]
  },
  {
   "cell_type": "markdown",
   "metadata": {},
   "source": [
    "# Import/Preprocess Data"
   ]
  },
  {
   "cell_type": "code",
   "execution_count": 6,
   "metadata": {
    "ExecuteTime": {
     "end_time": "2020-11-04T18:32:19.887105Z",
     "start_time": "2020-11-04T18:32:17.122105Z"
    }
   },
   "outputs": [],
   "source": [
    "# Web scrape most recent speeches using our imported 'get_transcript'\n",
    "goodyear = get_transcript('https://www.rev.com/blog/transcripts/donald-trump-rally-speech-transcript-goodyear-az-october-28')\n",
    "bullhead = get_transcript('https://www.rev.com/blog/transcripts/donald-trump-rally-speech-transcript-bullhead-city-az-october-28')\n",
    "omaha = get_transcript('https://www.rev.com/blog/transcripts/donald-trump-rally-speech-transcript-omaha-ne-october-27')\n",
    "wsalem = get_transcript('https://www.rev.com/blog/transcripts/donald-trump-rally-speech-transcript-west-salem-wisconsin-october-27')\n",
    "lansing = get_transcript('https://www.rev.com/blog/transcripts/donald-trump-rally-speech-transcript-lansing-michigan-october-27')\n",
    "martinsburg = get_transcript('https://www.rev.com/blog/transcripts/donald-trump-rally-speech-transcript-martinsburg-pa-october-26')\n",
    "lititz = get_transcript('https://www.rev.com/blog/transcripts/donald-trump-rally-speech-transcript-lititz-pa-october-26')\n",
    "allentown = get_transcript('https://www.rev.com/blog/transcripts/donald-trump-rally-speech-transcript-allentown-pa-october-26')"
   ]
  },
  {
   "cell_type": "code",
   "execution_count": 7,
   "metadata": {
    "ExecuteTime": {
     "end_time": "2020-11-04T18:32:20.600237Z",
     "start_time": "2020-11-04T18:32:20.597560Z"
    }
   },
   "outputs": [],
   "source": [
    "# Clean all of the speeches in the corpus using our imported 'clean' function\n",
    "clean_goodyear = clean(goodyear)"
   ]
  },
  {
   "cell_type": "code",
   "execution_count": 8,
   "metadata": {
    "ExecuteTime": {
     "end_time": "2020-11-04T18:32:24.006316Z",
     "start_time": "2020-11-04T18:32:21.664195Z"
    }
   },
   "outputs": [],
   "source": [
    "# Preprocess the speeches using our imported 'preprocess' function\n",
    "processed_goodyear = preprocess(clean_goodyear)"
   ]
  },
  {
   "cell_type": "markdown",
   "metadata": {
    "ExecuteTime": {
     "end_time": "2020-11-03T22:12:36.266433Z",
     "start_time": "2020-11-03T22:12:36.257545Z"
    }
   },
   "source": [
    "# Document-Term Matrices"
   ]
  },
  {
   "cell_type": "code",
   "execution_count": 9,
   "metadata": {
    "ExecuteTime": {
     "end_time": "2020-11-04T18:32:25.866539Z",
     "start_time": "2020-11-04T18:32:25.851630Z"
    }
   },
   "outputs": [],
   "source": [
    "# Countvectorizer\n",
    "cv = CountVectorizer(stop_words='english')\n",
    "\n",
    "X_cv = cv.fit_transform(processed_goodyear)\n",
    "\n",
    "df_cv = pd.DataFrame(X_cv.toarray(), columns=cv.get_feature_names())"
   ]
  },
  {
   "cell_type": "code",
   "execution_count": 10,
   "metadata": {
    "ExecuteTime": {
     "end_time": "2020-11-04T18:32:26.928198Z",
     "start_time": "2020-11-04T18:32:26.908728Z"
    }
   },
   "outputs": [
    {
     "name": "stderr",
     "output_type": "stream",
     "text": [
      "/opt/anaconda3/lib/python3.8/site-packages/sklearn/feature_extraction/text.py:1795: UserWarning: Only (<class 'numpy.float64'>, <class 'numpy.float32'>, <class 'numpy.float16'>) 'dtype' should be used. <class 'numpy.int64'> 'dtype' will be converted to np.float64.\n",
      "  warnings.warn(\"Only {} 'dtype' should be used. {} 'dtype' will \"\n"
     ]
    }
   ],
   "source": [
    "# TF_IDF Vectorizer\n",
    "tfidf_vectorizer = TfidfVectorizer(**cv.get_params())\n",
    "\n",
    "X_tfidf = tfidf_vectorizer.fit_transform(processed_goodyear)\n",
    "\n",
    "df_tfidf = pd.DataFrame(X_tfidf.toarray(), columns=tfidf_vectorizer.get_feature_names())"
   ]
  },
  {
   "cell_type": "markdown",
   "metadata": {},
   "source": [
    "# PCA"
   ]
  },
  {
   "cell_type": "code",
   "execution_count": 19,
   "metadata": {
    "ExecuteTime": {
     "end_time": "2020-11-04T18:39:51.552331Z",
     "start_time": "2020-11-04T18:39:51.549956Z"
    }
   },
   "outputs": [],
   "source": [
    "# Instantiate PCA\n",
    "pca_cv = PCA(n_components=2)\n",
    "pca_tfidf = PCA(n_components=2)"
   ]
  },
  {
   "cell_type": "code",
   "execution_count": 42,
   "metadata": {
    "ExecuteTime": {
     "end_time": "2020-11-04T21:57:45.505386Z",
     "start_time": "2020-11-04T21:57:45.443348Z"
    }
   },
   "outputs": [],
   "source": [
    "# Fit both PCAs\n",
    "pca_cv_result = pca_cv.fit_transform(X_cv.toarray())\n",
    "pca_tfidf_result = pca_tfidf.fit_transform(X_tfidf.toarray())"
   ]
  },
  {
   "cell_type": "code",
   "execution_count": 26,
   "metadata": {
    "ExecuteTime": {
     "end_time": "2020-11-04T19:51:47.413400Z",
     "start_time": "2020-11-04T19:51:47.408844Z"
    }
   },
   "outputs": [
    {
     "name": "stdout",
     "output_type": "stream",
     "text": [
      "Count Vectorizer explained variance: [0.02537273 0.02111927]\n",
      "TFIDF explained variance: [0.02226174 0.01874518]\n"
     ]
    }
   ],
   "source": [
    "# Explained Variance\n",
    "print(f\"Count Vectorizer explained variance: {pca_cv.explained_variance_ratio_}\")\n",
    "print(f\"TFIDF explained variance: {pca_tfidf.explained_variance_ratio_}\")\n",
    "\n",
    "# Count Vectorizer has higher explained variance for both components"
   ]
  },
  {
   "cell_type": "code",
   "execution_count": 93,
   "metadata": {
    "ExecuteTime": {
     "end_time": "2020-11-04T23:06:42.371762Z",
     "start_time": "2020-11-04T23:06:42.368015Z"
    }
   },
   "outputs": [],
   "source": [
    "# to understand the importance of each variable in each PC, look at the correlations:\n",
    "# Use Count Vectorizer due to higher explained variance\n",
    "df_pca = pd.DataFrame(pca_cv.components_, index = ['PC1','PC2'], columns=cv.get_feature_names())"
   ]
  },
  {
   "cell_type": "code",
   "execution_count": 94,
   "metadata": {
    "ExecuteTime": {
     "end_time": "2020-11-04T23:06:43.287783Z",
     "start_time": "2020-11-04T23:06:43.269129Z"
    },
    "scrolled": false
   },
   "outputs": [
    {
     "data": {
      "text/html": [
       "<div>\n",
       "<style scoped>\n",
       "    .dataframe tbody tr th:only-of-type {\n",
       "        vertical-align: middle;\n",
       "    }\n",
       "\n",
       "    .dataframe tbody tr th {\n",
       "        vertical-align: top;\n",
       "    }\n",
       "\n",
       "    .dataframe thead th {\n",
       "        text-align: right;\n",
       "    }\n",
       "</style>\n",
       "<table border=\"1\" class=\"dataframe\">\n",
       "  <thead>\n",
       "    <tr style=\"text-align: right;\">\n",
       "      <th></th>\n",
       "      <th>able</th>\n",
       "      <th>abolish</th>\n",
       "      <th>abortion</th>\n",
       "      <th>abraham</th>\n",
       "      <th>abuse</th>\n",
       "      <th>access</th>\n",
       "      <th>accomplishment</th>\n",
       "      <th>accountability</th>\n",
       "      <th>achieve</th>\n",
       "      <th>acknowledge</th>\n",
       "      <th>...</th>\n",
       "      <th>wyatt</th>\n",
       "      <th>xenophobic</th>\n",
       "      <th>year</th>\n",
       "      <th>yee</th>\n",
       "      <th>yes</th>\n",
       "      <th>yesterday</th>\n",
       "      <th>york</th>\n",
       "      <th>young</th>\n",
       "      <th>yuma</th>\n",
       "      <th>zero</th>\n",
       "    </tr>\n",
       "  </thead>\n",
       "  <tbody>\n",
       "    <tr>\n",
       "      <th>PC1</th>\n",
       "      <td>-0.001415</td>\n",
       "      <td>0.001432</td>\n",
       "      <td>-0.000726</td>\n",
       "      <td>0.013835</td>\n",
       "      <td>-0.000688</td>\n",
       "      <td>0.062325</td>\n",
       "      <td>-0.000296</td>\n",
       "      <td>-0.000067</td>\n",
       "      <td>-0.000563</td>\n",
       "      <td>0.009383</td>\n",
       "      <td>...</td>\n",
       "      <td>0.000558</td>\n",
       "      <td>-0.001083</td>\n",
       "      <td>0.125333</td>\n",
       "      <td>-0.001155</td>\n",
       "      <td>0.000096</td>\n",
       "      <td>-0.002189</td>\n",
       "      <td>0.013462</td>\n",
       "      <td>0.004443</td>\n",
       "      <td>-0.001273</td>\n",
       "      <td>-0.000489</td>\n",
       "    </tr>\n",
       "    <tr>\n",
       "      <th>PC2</th>\n",
       "      <td>-0.000036</td>\n",
       "      <td>-0.001288</td>\n",
       "      <td>-0.000025</td>\n",
       "      <td>-0.003764</td>\n",
       "      <td>-0.000171</td>\n",
       "      <td>-0.007774</td>\n",
       "      <td>0.000073</td>\n",
       "      <td>-0.000328</td>\n",
       "      <td>-0.000003</td>\n",
       "      <td>0.000075</td>\n",
       "      <td>...</td>\n",
       "      <td>-0.000438</td>\n",
       "      <td>0.000269</td>\n",
       "      <td>-0.034538</td>\n",
       "      <td>0.000291</td>\n",
       "      <td>-0.000262</td>\n",
       "      <td>0.000545</td>\n",
       "      <td>-0.008920</td>\n",
       "      <td>-0.003999</td>\n",
       "      <td>-0.000055</td>\n",
       "      <td>-0.000285</td>\n",
       "    </tr>\n",
       "  </tbody>\n",
       "</table>\n",
       "<p>2 rows × 1096 columns</p>\n",
       "</div>"
      ],
      "text/plain": [
       "         able   abolish  abortion   abraham     abuse    access  \\\n",
       "PC1 -0.001415  0.001432 -0.000726  0.013835 -0.000688  0.062325   \n",
       "PC2 -0.000036 -0.001288 -0.000025 -0.003764 -0.000171 -0.007774   \n",
       "\n",
       "     accomplishment  accountability   achieve  acknowledge  ...     wyatt  \\\n",
       "PC1       -0.000296       -0.000067 -0.000563     0.009383  ...  0.000558   \n",
       "PC2        0.000073       -0.000328 -0.000003     0.000075  ... -0.000438   \n",
       "\n",
       "     xenophobic      year       yee       yes  yesterday      york     young  \\\n",
       "PC1   -0.001083  0.125333 -0.001155  0.000096  -0.002189  0.013462  0.004443   \n",
       "PC2    0.000269 -0.034538  0.000291 -0.000262   0.000545 -0.008920 -0.003999   \n",
       "\n",
       "         yuma      zero  \n",
       "PC1 -0.001273 -0.000489  \n",
       "PC2 -0.000055 -0.000285  \n",
       "\n",
       "[2 rows x 1096 columns]"
      ]
     },
     "execution_count": 94,
     "metadata": {},
     "output_type": "execute_result"
    }
   ],
   "source": [
    "df_pca"
   ]
  },
  {
   "cell_type": "code",
   "execution_count": 100,
   "metadata": {
    "ExecuteTime": {
     "end_time": "2020-11-04T23:08:32.421597Z",
     "start_time": "2020-11-04T23:08:32.210075Z"
    }
   },
   "outputs": [
    {
     "data": {
      "text/plain": [
       "<matplotlib.axes._subplots.AxesSubplot at 0x7f98f1f686a0>"
      ]
     },
     "execution_count": 100,
     "metadata": {},
     "output_type": "execute_result"
    },
    {
     "data": {
      "image/png": "[encoded data removed]",
      "text/plain": [
       "<Figure size 720x432 with 1 Axes>"
      ]
     },
     "metadata": {
      "needs_background": "light"
     },
     "output_type": "display_data"
    }
   ],
   "source": [
    "# Visualize\n",
    "# For reproducability of the results\n",
    "np.random.seed(42)\n",
    "rndperm = np.random.permutation(df_cv.shape[0])\n",
    "\n",
    "# Create columns for seaborn plotting\n",
    "df_cv['pca-one'] = pca_cv_result[:,0]\n",
    "df_cv['pca-two'] = pca_cv_result[:,1] \n",
    "\n",
    "plt.figure(figsize=(10,6))\n",
    "sns.scatterplot(\n",
    "    x=\"pca-one\", y=\"pca-two\",\n",
    "    palette=sns.color_palette(\"hls\", 10),\n",
    "    data=df_cv.loc[rndperm,:],\n",
    "    legend=\"full\",\n",
    "    alpha=0.9\n",
    ")"
   ]
  },
  {
   "cell_type": "markdown",
   "metadata": {
    "ExecuteTime": {
     "end_time": "2020-11-04T19:59:40.713903Z",
     "start_time": "2020-11-04T19:59:40.710646Z"
    }
   },
   "source": [
    "## Scree plot"
   ]
  },
  {
   "cell_type": "code",
   "execution_count": 30,
   "metadata": {
    "ExecuteTime": {
     "end_time": "2020-11-04T20:10:25.170447Z",
     "start_time": "2020-11-04T20:10:25.123398Z"
    }
   },
   "outputs": [],
   "source": [
    "pca2 = PCA(n_components=15)\n",
    "pca2.fit(X_cv.toarray())\n",
    "pcafeatures_train2 = pca2.transform(X_cv.toarray())"
   ]
  },
  {
   "cell_type": "code",
   "execution_count": 31,
   "metadata": {
    "ExecuteTime": {
     "end_time": "2020-11-04T20:10:49.949599Z",
     "start_time": "2020-11-04T20:10:49.809014Z"
    }
   },
   "outputs": [
    {
     "data": {
      "image/png": "[encoded data removed]",
      "text/plain": [
       "<Figure size 432x288 with 1 Axes>"
      ]
     },
     "metadata": {},
     "output_type": "display_data"
    }
   ],
   "source": [
    "plt.plot(pca2.explained_variance_ratio_)\n",
    "plt.xlabel('# components')\n",
    "plt.ylabel('explained variance');\n",
    "plt.title('Scree plot');"
   ]
  },
  {
   "cell_type": "code",
   "execution_count": 32,
   "metadata": {
    "ExecuteTime": {
     "end_time": "2020-11-04T20:10:59.271261Z",
     "start_time": "2020-11-04T20:10:59.145116Z"
    },
    "scrolled": true
   },
   "outputs": [
    {
     "data": {
      "image/png": "[encoded data removed]",
      "text/plain": [
       "<Figure size 432x288 with 1 Axes>"
      ]
     },
     "metadata": {},
     "output_type": "display_data"
    }
   ],
   "source": [
    "plt.plot(np.cumsum(pca2.explained_variance_ratio_))\n",
    "plt.xlabel('# components')\n",
    "plt.ylabel('cumulative explained variance');\n",
    "plt.title('Cumulative explained variance by PCA for digits');"
   ]
  }
 ],
 "metadata": {
  "kernelspec": {
   "display_name": "Python 3",
   "language": "python",
   "name": "python3"
  },
  "language_info": {
   "codemirror_mode": {
    "name": "ipython",
    "version": 3
   },
   "file_extension": ".py",
   "mimetype": "text/x-python",
   "name": "python",
   "nbconvert_exporter": "python",
   "pygments_lexer": "ipython3",
   "version": "3.8.3"
  },
  "toc": {
   "base_numbering": 1,
   "nav_menu": {},
   "number_sections": true,
   "sideBar": true,
   "skip_h1_title": false,
   "title_cell": "Table of Contents",
   "title_sidebar": "Contents",
   "toc_cell": false,
   "toc_position": {},
   "toc_section_display": true,
   "toc_window_display": false
  }
 },
 "nbformat": 4,
 "nbformat_minor": 4
}
