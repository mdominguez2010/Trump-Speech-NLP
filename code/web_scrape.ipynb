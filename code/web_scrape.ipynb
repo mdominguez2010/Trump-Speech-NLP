{
 "cells": [
  {
   "cell_type": "markdown",
   "metadata": {},
   "source": [
    "All of the transripts live [here](https://www.rev.com/blog/transcript-tag/donald-trump-speech-transcripts)"
   ]
  },
  {
   "cell_type": "markdown",
   "metadata": {},
   "source": [
    "# Importing Dependencies"
   ]
  },
  {
   "cell_type": "code",
   "execution_count": 1,
   "metadata": {
    "ExecuteTime": {
     "end_time": "2020-11-01T23:59:57.721823Z",
     "start_time": "2020-11-01T23:59:57.719370Z"
    }
   },
   "outputs": [],
   "source": [
    "import re\n",
    "import pickle\n",
    "\n",
    "import requests\n",
    "from bs4 import BeautifulSoup\n",
    "from IPython.core.display import display, HTML"
   ]
  },
  {
   "cell_type": "code",
   "execution_count": 2,
   "metadata": {
    "ExecuteTime": {
     "end_time": "2020-10-29T22:12:20.516635Z",
     "start_time": "2020-10-29T22:12:20.512910Z"
    }
   },
   "outputs": [],
   "source": [
    "def status_codes(urls):\n",
    "    \"\"\"\n",
    "    Takes a list of urls as an argument and returns response code in a disctionary. \n",
    "    This is a quick check to see if we are able to scrape some potential websites\n",
    "    \"\"\"\n",
    "    response_dict = {}\n",
    "    for url in urls:\n",
    "        response_dict[url] = requests.get(url).status_code\n",
    "    return response_dict"
   ]
  },
  {
   "cell_type": "code",
   "execution_count": null,
   "metadata": {
    "ExecuteTime": {
     "end_time": "2020-10-29T22:12:25.314228Z",
     "start_time": "2020-10-29T22:12:21.155082Z"
    }
   },
   "outputs": [],
   "source": [
    "urls = [\"https://rev.com\", \"https://factba.se\", \"https://www.nothuman.net/\", \"https://novel80.com/\"]\n",
    "status_codes(urls)"
   ]
  },
  {
   "cell_type": "markdown",
   "metadata": {},
   "source": [
    "# Webscrape Trump Speeches Transcripts"
   ]
  },
  {
   "cell_type": "code",
   "execution_count": null,
   "metadata": {},
   "outputs": [],
   "source": [
    "# Find date of speech for url\n",
    "# date = soup.find('p')\n",
    "# date.text"
   ]
  },
  {
   "cell_type": "code",
   "execution_count": 4,
   "metadata": {
    "ExecuteTime": {
     "end_time": "2020-11-02T00:23:05.706364Z",
     "start_time": "2020-11-02T00:23:05.702944Z"
    }
   },
   "outputs": [],
   "source": [
    "def get_transcript(url):\n",
    "    \"\"\"\n",
    "    Takes a Trump speech URL and extracts the transcript\n",
    "    \"\"\"\n",
    "    transcript = []\n",
    "    \n",
    "    response = requests.get(url)\n",
    "    page = response.text\n",
    "    soup = BeautifulSoup(page, \"lxml\")\n",
    "    \n",
    "    for element in soup.find_all('p'):\n",
    "        transcript.append(element.text)\n",
    "    \n",
    "    return transcript"
   ]
  },
  {
   "cell_type": "code",
   "execution_count": 5,
   "metadata": {
    "ExecuteTime": {
     "end_time": "2020-11-02T00:23:08.748321Z",
     "start_time": "2020-11-02T00:23:06.261439Z"
    }
   },
   "outputs": [],
   "source": [
    "# Eight most recent speeches\n",
    "goodyear_az = get_transcript('https://www.rev.com/blog/transcripts/donald-trump-rally-speech-transcript-goodyear-az-october-28')\n",
    "bullhead_az = get_transcript('https://www.rev.com/blog/transcripts/donald-trump-rally-speech-transcript-bullhead-city-az-october-28')\n",
    "omaha_ne = get_transcript('https://www.rev.com/blog/transcripts/donald-trump-rally-speech-transcript-omaha-ne-october-27')\n",
    "wsalem_wi = get_transcript('https://www.rev.com/blog/transcripts/donald-trump-rally-speech-transcript-west-salem-wisconsin-october-27')\n",
    "lansing_mi = get_transcript('https://www.rev.com/blog/transcripts/donald-trump-rally-speech-transcript-lansing-michigan-october-27')\n",
    "martinsburg_pa = get_transcript('https://www.rev.com/blog/transcripts/donald-trump-rally-speech-transcript-martinsburg-pa-october-26')\n",
    "lititz_pa = get_transcript('https://www.rev.com/blog/transcripts/donald-trump-rally-speech-transcript-lititz-pa-october-26')\n",
    "allentown_pa = get_transcript('https://www.rev.com/blog/transcripts/donald-trump-rally-speech-transcript-allentown-pa-october-26')"
   ]
  },
  {
   "cell_type": "code",
   "execution_count": 6,
   "metadata": {
    "ExecuteTime": {
     "end_time": "2020-11-02T00:24:22.920881Z",
     "start_time": "2020-11-02T00:24:22.913126Z"
    },
    "scrolled": true
   },
   "outputs": [],
   "source": [
    "# Save speeche into pickle file\n",
    "pickle.dump(goodyear_az, open(\"/Users/dominguez/Documents/Trump-Speech-NLP/speech_data/goodyear_az.p\",\"wb\"))\n",
    "pickle.dump(bullhead_az, open(\"/Users/dominguez/Documents/Trump-Speech-NLP/speech_data/bullhead_az.p\",\"wb\"))\n",
    "pickle.dump(omaha_ne, open(\"/Users/dominguez/Documents/Trump-Speech-NLP/speech_data/omaha_ne.p\",\"wb\"))\n",
    "pickle.dump(wsalem_wi, open(\"/Users/dominguez/Documents/Trump-Speech-NLP/speech_data/wsalem_wi.p\",\"wb\"))\n",
    "pickle.dump(lansing_mi, open(\"/Users/dominguez/Documents/Trump-Speech-NLP/speech_data/lansing_mi.p\",\"wb\"))\n",
    "pickle.dump(martinsburg_pa, open(\"/Users/dominguez/Documents/Trump-Speech-NLP/speech_data/martinsburg_pa.p\",\"wb\"))\n",
    "pickle.dump(lititz_pa, open(\"/Users/dominguez/Documents/Trump-Speech-NLP/speech_data/lititz_pa.p\",\"wb\"))\n",
    "pickle.dump(allentown_pa, open(\"/Users/dominguez/Documents/Trump-Speech-NLP/speech_data/allentown_pa.p\",\"wb\"))"
   ]
  },
  {
   "cell_type": "code",
   "execution_count": null,
   "metadata": {},
   "outputs": [],
   "source": []
  }
 ],
 "metadata": {
  "kernelspec": {
   "display_name": "Python 3",
   "language": "python",
   "name": "python3"
  },
  "language_info": {
   "codemirror_mode": {
    "name": "ipython",
    "version": 3
   },
   "file_extension": ".py",
   "mimetype": "text/x-python",
   "name": "python",
   "nbconvert_exporter": "python",
   "pygments_lexer": "ipython3",
   "version": "3.8.3"
  },
  "toc": {
   "base_numbering": 1,
   "nav_menu": {},
   "number_sections": true,
   "sideBar": true,
   "skip_h1_title": false,
   "title_cell": "Table of Contents",
   "title_sidebar": "Contents",
   "toc_cell": false,
   "toc_position": {},
   "toc_section_display": true,
   "toc_window_display": false
  }
 },
 "nbformat": 4,
 "nbformat_minor": 4
}
