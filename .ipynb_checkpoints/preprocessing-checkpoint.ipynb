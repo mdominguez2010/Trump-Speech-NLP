{
 "cells": [
  {
   "cell_type": "markdown",
   "metadata": {},
   "source": [
    "# Import Dependencies"
   ]
  },
  {
   "cell_type": "code",
   "execution_count": null,
   "metadata": {
    "ExecuteTime": {
     "end_time": "2020-11-04T03:38:39.562802Z",
     "start_time": "2020-11-04T03:38:39.254697Z"
    }
   },
   "outputs": [],
   "source": [
    "import re\n",
    "import pickle\n",
    "import string\n",
    "import numpy as np\n",
    "import pandas as pd\n",
    "\n",
    "import spacy\n",
    "from spacy.lang.en.stop_words import STOP_WORDS\n",
    "from spacy.attrs import IS_ALPHA\n",
    "from spacy.lang.en import English\n",
    "from spacy import displacy, lemmatizer\n",
    "\n",
    "from sklearn.feature_extraction.text import CountVectorizer\n",
    "from sklearn.model_selection import train_test_split\n",
    "\n",
    "import matplotlib.pyplot as plt"
   ]
  },
  {
   "cell_type": "markdown",
   "metadata": {},
   "source": [
    "# Load and Pre-Process Corpus"
   ]
  },
  {
   "cell_type": "code",
   "execution_count": null,
   "metadata": {
    "ExecuteTime": {
     "end_time": "2020-11-04T03:38:41.011479Z",
     "start_time": "2020-11-04T03:38:41.008604Z"
    }
   },
   "outputs": [],
   "source": [
    "# Load pickled clean_corpus\n",
    "clean_goodyear = pickle.load(open(\"/Users/dominguez/Documents/Trump-Speech-NLP/speech_data/clean_goodyear.p\",\"rb\"))"
   ]
  },
  {
   "cell_type": "code",
   "execution_count": null,
   "metadata": {
    "ExecuteTime": {
     "end_time": "2020-11-04T03:40:41.438378Z",
     "start_time": "2020-11-04T03:40:41.432691Z"
    }
   },
   "outputs": [],
   "source": [
    "# Create tokenized corpus and preprocess text\n",
    "def preprocess(clean_speech):\n",
    "    \"\"\"\n",
    "    Takes in a speech, tokenizes and breaks it out into sentences, lemmatizes and removes stop words and punctuation for each speech\n",
    "    \"\"\"\n",
    "    \n",
    "    # Create our list of punctuation marks\n",
    "    punctuations = '!\"#$%&\\'()’*+,-./:”;<=>?@[\\\\]^_`{|}~'\n",
    "\n",
    "    # Create our list of stopwords\n",
    "    stop_words = spacy.lang.en.stop_words.STOP_WORDS\n",
    "    \n",
    "    # Establish weird words in our corpus to be filtered out\n",
    "    weird_words = ['abc', 'c', 'o', 'n']\n",
    "    \n",
    "    # Etablish new sentence list\n",
    "    sentence_list = []\n",
    "    \n",
    "    # Tokenizer\n",
    "    tokenizer = spacy.load('en_core_web_sm')\n",
    "    speech_tokens = tokenizer(clean_speech)\n",
    "\n",
    "    for sentence in speech_tokens.sents:\n",
    "        \n",
    "        # Lemmatizing each token and converting each token into lowercase\n",
    "        sentence = [word.lemma_.lower().strip() if word.lemma_ != \"-PRON-\" else word.lower_ for word in sentence]\n",
    "        \n",
    "        # Remove stop words, weird words and punctuations\n",
    "        sentence = [word for word in sentence if word not in stop_words and word not in punctuations \\\n",
    "                         and word not in weird_words]\n",
    "\n",
    "        # Remove numbers\n",
    "        sentence = [word for word in sentence if word.isalpha()]\n",
    "        \n",
    "        # Join all words in sentence\n",
    "        sentence = ','.join(sentence)\n",
    "        \n",
    "        # Append to new list\n",
    "        sentence_list.append(sentence)\n",
    "    \n",
    "    return sentence_list"
   ]
  },
  {
   "cell_type": "code",
   "execution_count": null,
   "metadata": {
    "ExecuteTime": {
     "end_time": "2020-11-04T03:40:44.562492Z",
     "start_time": "2020-11-04T03:40:42.830354Z"
    }
   },
   "outputs": [],
   "source": [
    "# Preprocess our corpus\n",
    "processed_goodyear = preprocess(clean_goodyear)"
   ]
  },
  {
   "cell_type": "code",
   "execution_count": null,
   "metadata": {
    "ExecuteTime": {
     "end_time": "2020-11-04T03:40:46.570082Z",
     "start_time": "2020-11-04T03:40:46.555680Z"
    }
   },
   "outputs": [],
   "source": [
    "processed_goodyear"
   ]
  },
  {
   "cell_type": "markdown",
   "metadata": {},
   "source": [
    "# Doc-Term Matrix"
   ]
  },
  {
   "cell_type": "code",
   "execution_count": null,
   "metadata": {
    "ExecuteTime": {
     "end_time": "2020-11-04T03:41:01.038631Z",
     "start_time": "2020-11-04T03:41:01.023736Z"
    },
    "scrolled": true
   },
   "outputs": [],
   "source": [
    "# The first document-term matrix has default Count Vectorizer values - counts of unigrams\n",
    "from sklearn.feature_extraction.text import CountVectorizer\n",
    "\n",
    "cv1 = CountVectorizer(stop_words='english')\n",
    "\n",
    "X = cv1.fit_transform(processed_goodyear)\n",
    "\n",
    "df = pd.DataFrame(X.toarray(), columns=cv1.get_feature_names())"
   ]
  },
  {
   "cell_type": "code",
   "execution_count": null,
   "metadata": {
    "ExecuteTime": {
     "end_time": "2020-11-04T03:41:03.510307Z",
     "start_time": "2020-11-04T03:41:03.489702Z"
    }
   },
   "outputs": [],
   "source": [
    "df"
   ]
  },
  {
   "cell_type": "code",
   "execution_count": null,
   "metadata": {
    "ExecuteTime": {
     "end_time": "2020-11-04T03:43:54.388383Z",
     "start_time": "2020-11-04T03:43:54.384420Z"
    }
   },
   "outputs": [],
   "source": []
  },
  {
   "cell_type": "code",
   "execution_count": null,
   "metadata": {},
   "outputs": [],
   "source": []
  }
 ],
 "metadata": {
  "kernelspec": {
   "display_name": "Python 3",
   "language": "python",
   "name": "python3"
  },
  "language_info": {
   "codemirror_mode": {
    "name": "ipython",
    "version": 3
   },
   "file_extension": ".py",
   "mimetype": "text/x-python",
   "name": "python",
   "nbconvert_exporter": "python",
   "pygments_lexer": "ipython3",
   "version": "3.8.3"
  },
  "toc": {
   "base_numbering": 1,
   "nav_menu": {},
   "number_sections": true,
   "sideBar": true,
   "skip_h1_title": false,
   "title_cell": "Table of Contents",
   "title_sidebar": "Contents",
   "toc_cell": false,
   "toc_position": {},
   "toc_section_display": true,
   "toc_window_display": false
  }
 },
 "nbformat": 4,
 "nbformat_minor": 4
}
