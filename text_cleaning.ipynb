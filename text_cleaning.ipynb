{
 "cells": [
  {
   "cell_type": "markdown",
   "metadata": {},
   "source": [
    "# Cleaning and preparing data for NLP"
   ]
  },
  {
   "cell_type": "code",
   "execution_count": null,
   "metadata": {
    "ExecuteTime": {
     "end_time": "2020-11-04T02:59:44.932777Z",
     "start_time": "2020-11-04T02:59:44.930326Z"
    }
   },
   "outputs": [],
   "source": [
    "import re\n",
    "import pickle"
   ]
  },
  {
   "cell_type": "code",
   "execution_count": null,
   "metadata": {
    "ExecuteTime": {
     "end_time": "2020-11-04T02:59:45.743071Z",
     "start_time": "2020-11-04T02:59:45.736162Z"
    }
   },
   "outputs": [],
   "source": [
    "# Load the pickle files\n",
    "goodyear = pickle.load(open(\"/Users/dominguez/Documents/Trump-Speech-NLP/speech_data/goodyear.p\",\"rb\"))\n",
    "bullhead = pickle.load(open(\"/Users/dominguez/Documents/Trump-Speech-NLP/speech_data/bullhead.p\",\"rb\"))\n",
    "omaha = pickle.load(open(\"/Users/dominguez/Documents/Trump-Speech-NLP/speech_data/omaha.p\",\"rb\"))\n",
    "wsalem = pickle.load(open(\"/Users/dominguez/Documents/Trump-Speech-NLP/speech_data/wsalem.p\",\"rb\"))\n",
    "lansing = pickle.load(open(\"/Users/dominguez/Documents/Trump-Speech-NLP/speech_data/lansing.p\",\"rb\"))\n",
    "martinsburg = pickle.load(open(\"/Users/dominguez/Documents/Trump-Speech-NLP/speech_data/martinsburg.p\",\"rb\"))\n",
    "lititz = pickle.load(open(\"/Users/dominguez/Documents/Trump-Speech-NLP/speech_data/lititz.p\",\"rb\"))\n",
    "allentown = pickle.load(open(\"/Users/dominguez/Documents/Trump-Speech-NLP/speech_data/allentown.p\",\"rb\"))"
   ]
  },
  {
   "cell_type": "code",
   "execution_count": null,
   "metadata": {
    "ExecuteTime": {
     "end_time": "2020-11-04T03:29:12.213124Z",
     "start_time": "2020-11-04T03:29:12.208591Z"
    }
   },
   "outputs": [],
   "source": [
    "def clean(speech):\n",
    "    \"\"\"\n",
    "    Takes a speech as an argument and cleans it so it's ready to be pre-processed\n",
    "    \"\"\"\n",
    "    # Initiate clean_corpus\n",
    "    #clean_speech = [] \n",
    "    \n",
    "    # Removes meaningless intro    \n",
    "    speech = speech[5:] \n",
    "\n",
    "    for i in range(len(speech)):\n",
    "        # Removes 'meaningless text hear (min:sec)\\n' at the beginning of each paragraph\n",
    "        speech[i] = speech[i][speech[i].find('\\n') + 1:] \n",
    "        # Replaces brackets with paranthesis\n",
    "        speech[i] = speech[i].replace('[', '(') \n",
    "        speech[i] = speech[i].replace(']', ')')\n",
    "        # Removes meaningless text in parantheses\n",
    "        speech[i] = re.sub(r'\\([^)]*\\)', '', speech[i]) \n",
    "        \n",
    "    # Join all of the paragraphs into on huge string\n",
    "    speech = ','.join(speech) \n",
    "\n",
    "        #clean_speech.append(speech)\n",
    "        \n",
    "    return speech"
   ]
  },
  {
   "cell_type": "code",
   "execution_count": null,
   "metadata": {
    "ExecuteTime": {
     "end_time": "2020-11-04T03:29:12.788079Z",
     "start_time": "2020-11-04T03:29:12.785492Z"
    }
   },
   "outputs": [],
   "source": [
    "# Clean speech\n",
    "clean_goodyear = clean(goodyear)"
   ]
  },
  {
   "cell_type": "code",
   "execution_count": null,
   "metadata": {
    "ExecuteTime": {
     "end_time": "2020-11-04T03:29:13.627824Z",
     "start_time": "2020-11-04T03:29:13.623565Z"
    }
   },
   "outputs": [],
   "source": [
    "clean_goodyear"
   ]
  },
  {
   "cell_type": "code",
   "execution_count": null,
   "metadata": {
    "ExecuteTime": {
     "end_time": "2020-11-04T03:00:36.067395Z",
     "start_time": "2020-11-04T03:00:36.064109Z"
    },
    "scrolled": false
   },
   "outputs": [],
   "source": [
    "# Pickle clean_corpus\n",
    "pickle.dump(clean_goodyear, open(\"/Users/dominguez/Documents/Trump-Speech-NLP/speech_data/clean_goodyear.p\",\"wb\"))"
   ]
  },
  {
   "cell_type": "code",
   "execution_count": null,
   "metadata": {},
   "outputs": [],
   "source": []
  }
 ],
 "metadata": {
  "kernelspec": {
   "display_name": "Python 3",
   "language": "python",
   "name": "python3"
  },
  "language_info": {
   "codemirror_mode": {
    "name": "ipython",
    "version": 3
   },
   "file_extension": ".py",
   "mimetype": "text/x-python",
   "name": "python",
   "nbconvert_exporter": "python",
   "pygments_lexer": "ipython3",
   "version": "3.8.3"
  },
  "toc": {
   "base_numbering": 1,
   "nav_menu": {},
   "number_sections": true,
   "sideBar": true,
   "skip_h1_title": false,
   "title_cell": "Table of Contents",
   "title_sidebar": "Contents",
   "toc_cell": false,
   "toc_position": {},
   "toc_section_display": true,
   "toc_window_display": false
  }
 },
 "nbformat": 4,
 "nbformat_minor": 4
}
