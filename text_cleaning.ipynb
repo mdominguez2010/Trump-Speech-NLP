{
 "cells": [
  {
   "cell_type": "markdown",
   "metadata": {},
   "source": [
    "# Cleaning and preparing data for NLP"
   ]
  },
  {
   "cell_type": "code",
   "execution_count": 95,
   "metadata": {
    "ExecuteTime": {
     "end_time": "2020-11-02T02:10:29.071735Z",
     "start_time": "2020-11-02T02:10:29.069512Z"
    }
   },
   "outputs": [],
   "source": [
    "import re\n",
    "import pickle"
   ]
  },
  {
   "cell_type": "code",
   "execution_count": 109,
   "metadata": {
    "ExecuteTime": {
     "end_time": "2020-11-02T02:17:01.580138Z",
     "start_time": "2020-11-02T02:17:01.573706Z"
    }
   },
   "outputs": [],
   "source": [
    "# Load the pickle files\n",
    "goodyear = pickle.load(open(\"/Users/dominguez/Documents/Trump-Speech-NLP/speech_data/goodyear.p\",\"rb\"))\n",
    "bullhead = pickle.load(open(\"/Users/dominguez/Documents/Trump-Speech-NLP/speech_data/bullhead.p\",\"rb\"))\n",
    "omaha = pickle.load(open(\"/Users/dominguez/Documents/Trump-Speech-NLP/speech_data/omaha.p\",\"rb\"))\n",
    "wsalem = pickle.load(open(\"/Users/dominguez/Documents/Trump-Speech-NLP/speech_data/wsalem.p\",\"rb\"))\n",
    "lansing = pickle.load(open(\"/Users/dominguez/Documents/Trump-Speech-NLP/speech_data/lansing.p\",\"rb\"))\n",
    "martinsburg = pickle.load(open(\"/Users/dominguez/Documents/Trump-Speech-NLP/speech_data/martinsburg.p\",\"rb\"))\n",
    "lititz = pickle.load(open(\"/Users/dominguez/Documents/Trump-Speech-NLP/speech_data/lititz.p\",\"rb\"))\n",
    "allentown = pickle.load(open(\"/Users/dominguez/Documents/Trump-Speech-NLP/speech_data/allentown.p\",\"rb\"))"
   ]
  },
  {
   "cell_type": "code",
   "execution_count": 110,
   "metadata": {
    "ExecuteTime": {
     "end_time": "2020-11-02T02:17:02.504429Z",
     "start_time": "2020-11-02T02:17:02.499799Z"
    }
   },
   "outputs": [],
   "source": [
    "def clean(speech):\n",
    "    \"\"\"\n",
    "    Takes a speech as an argument and cleans it so it's ready to be processed into NLP Pipeline\n",
    "    \"\"\"\n",
    "    speech = speech[5:] # Removes meaningless intro\n",
    "    \n",
    "    for i in range(len(speech)):\n",
    "        speech[i] = speech[i][speech[i].find('\\n') + 1:] # Removes 'meaningless text hear (min:sec)\\n' at the beginning of each paragraph\n",
    "        speech[i] = speech[i].replace('[', '(') # Replaces brackets with paranthesis\n",
    "        speech[i] = speech[i].replace(']', ')')\n",
    "        speech[i] = re.sub(r'\\([^)]*\\)', '', speech[i]) # Removes meaningless text in parantheses\n",
    "    \n",
    "    speech = ','.join(speech) # Join all of the paragraphs into on huge string\n",
    "    \n",
    "    return speech"
   ]
  },
  {
   "cell_type": "code",
   "execution_count": 111,
   "metadata": {
    "ExecuteTime": {
     "end_time": "2020-11-02T02:17:03.876275Z",
     "start_time": "2020-11-02T02:17:03.869793Z"
    }
   },
   "outputs": [],
   "source": [
    "# Clean all of the speeches\n",
    "goodyear = clean(goodyear)\n",
    "bullhead = clean(bullhead)\n",
    "omaha = clean(omaha)\n",
    "wsalem = clean(wsalem)\n",
    "lansing = clean(lansing)\n",
    "martinsburg = clean(martinsburg)\n",
    "lititz = clean(lititz)\n",
    "allentown = clean(allentown)"
   ]
  }
 ],
 "metadata": {
  "kernelspec": {
   "display_name": "Python 3",
   "language": "python",
   "name": "python3"
  },
  "language_info": {
   "codemirror_mode": {
    "name": "ipython",
    "version": 3
   },
   "file_extension": ".py",
   "mimetype": "text/x-python",
   "name": "python",
   "nbconvert_exporter": "python",
   "pygments_lexer": "ipython3",
   "version": "3.8.3"
  },
  "toc": {
   "base_numbering": 1,
   "nav_menu": {},
   "number_sections": true,
   "sideBar": true,
   "skip_h1_title": false,
   "title_cell": "Table of Contents",
   "title_sidebar": "Contents",
   "toc_cell": false,
   "toc_position": {},
   "toc_section_display": true,
   "toc_window_display": false
  }
 },
 "nbformat": 4,
 "nbformat_minor": 4
}
