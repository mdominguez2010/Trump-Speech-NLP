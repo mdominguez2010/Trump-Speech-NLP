{
 "cells": [
  {
   "cell_type": "markdown",
   "metadata": {},
   "source": [
    "# Import Dependencies"
   ]
  },
  {
   "cell_type": "code",
   "execution_count": 1,
   "metadata": {
    "ExecuteTime": {
     "end_time": "2020-11-04T04:38:31.499940Z",
     "start_time": "2020-11-04T04:38:30.791590Z"
    }
   },
   "outputs": [],
   "source": [
    "import re\n",
    "import pickle\n",
    "import string\n",
    "import numpy as np\n",
    "import pandas as pd\n",
    "\n",
    "import spacy\n",
    "from spacy.lang.en.stop_words import STOP_WORDS\n",
    "from spacy.attrs import IS_ALPHA\n",
    "from spacy.lang.en import English\n",
    "from spacy import displacy, lemmatizer\n",
    "\n",
    "from sklearn.feature_extraction.text import CountVectorizer, TfidfVectorizer\n",
    "from sklearn.decomposition import LatentDirichletAllocation\n",
    "from sklearn.model_selection import train_test_split\n",
    "\n",
    "import matplotlib.pyplot as plt\n",
    "\n",
    "from wordcloud import WordCloud\n",
    "from textwrap import wrap\n",
    "\n",
    "import pyLDAvis\n",
    "import pyLDAvis.sklearn\n",
    "\n",
    "# Custom functions from .py files\n",
    "from web_scrape import get_transcript\n",
    "from preprocess import clean, preprocess"
   ]
  },
  {
   "cell_type": "markdown",
   "metadata": {},
   "source": [
    "# Import/Preprocess Data"
   ]
  },
  {
   "cell_type": "code",
   "execution_count": 2,
   "metadata": {
    "ExecuteTime": {
     "end_time": "2020-11-04T04:38:37.898701Z",
     "start_time": "2020-11-04T04:38:35.012552Z"
    }
   },
   "outputs": [],
   "source": [
    "# Web scrape most recent speeches using our imported 'get_transcript'\n",
    "goodyear = get_transcript('https://www.rev.com/blog/transcripts/donald-trump-rally-speech-transcript-goodyear-az-october-28')\n",
    "bullhead = get_transcript('https://www.rev.com/blog/transcripts/donald-trump-rally-speech-transcript-bullhead-city-az-october-28')\n",
    "omaha = get_transcript('https://www.rev.com/blog/transcripts/donald-trump-rally-speech-transcript-omaha-ne-october-27')\n",
    "wsalem = get_transcript('https://www.rev.com/blog/transcripts/donald-trump-rally-speech-transcript-west-salem-wisconsin-october-27')\n",
    "lansing = get_transcript('https://www.rev.com/blog/transcripts/donald-trump-rally-speech-transcript-lansing-michigan-october-27')\n",
    "martinsburg = get_transcript('https://www.rev.com/blog/transcripts/donald-trump-rally-speech-transcript-martinsburg-pa-october-26')\n",
    "lititz = get_transcript('https://www.rev.com/blog/transcripts/donald-trump-rally-speech-transcript-lititz-pa-october-26')\n",
    "allentown = get_transcript('https://www.rev.com/blog/transcripts/donald-trump-rally-speech-transcript-allentown-pa-october-26')"
   ]
  },
  {
   "cell_type": "code",
   "execution_count": 3,
   "metadata": {
    "ExecuteTime": {
     "end_time": "2020-11-04T04:38:39.442059Z",
     "start_time": "2020-11-04T04:38:39.439305Z"
    }
   },
   "outputs": [],
   "source": [
    "# Clean all of the speeches in the corpus using our imported 'clean' function\n",
    "clean_goodyear = clean(goodyear)"
   ]
  },
  {
   "cell_type": "code",
   "execution_count": 4,
   "metadata": {
    "ExecuteTime": {
     "end_time": "2020-11-04T04:38:43.058080Z",
     "start_time": "2020-11-04T04:38:40.883702Z"
    }
   },
   "outputs": [],
   "source": [
    "# Preprocess the speeches using our imported 'preprocess' function\n",
    "processed_goodyear = preprocess(clean_goodyear)"
   ]
  },
  {
   "cell_type": "markdown",
   "metadata": {
    "ExecuteTime": {
     "end_time": "2020-11-03T22:12:36.266433Z",
     "start_time": "2020-11-03T22:12:36.257545Z"
    }
   },
   "source": [
    "# Doc-Term Matrix"
   ]
  },
  {
   "cell_type": "code",
   "execution_count": 5,
   "metadata": {
    "ExecuteTime": {
     "end_time": "2020-11-04T04:38:48.035735Z",
     "start_time": "2020-11-04T04:38:48.020827Z"
    }
   },
   "outputs": [],
   "source": [
    "# Countvectorizer\n",
    "cv = CountVectorizer(stop_words='english')\n",
    "\n",
    "X_cv = cv.fit_transform(processed_goodyear)\n",
    "\n",
    "df_cv = pd.DataFrame(X_cv.toarray(), columns=cv.get_feature_names())"
   ]
  },
  {
   "cell_type": "code",
   "execution_count": 6,
   "metadata": {
    "ExecuteTime": {
     "end_time": "2020-11-04T04:38:48.964845Z",
     "start_time": "2020-11-04T04:38:48.946246Z"
    }
   },
   "outputs": [
    {
     "name": "stderr",
     "output_type": "stream",
     "text": [
      "/opt/anaconda3/lib/python3.8/site-packages/sklearn/feature_extraction/text.py:1795: UserWarning: Only (<class 'numpy.float64'>, <class 'numpy.float32'>, <class 'numpy.float16'>) 'dtype' should be used. <class 'numpy.int64'> 'dtype' will be converted to np.float64.\n",
      "  warnings.warn(\"Only {} 'dtype' should be used. {} 'dtype' will \"\n"
     ]
    }
   ],
   "source": [
    "# TF_IDF\n",
    "tfidf_vectorizer = TfidfVectorizer(**cv.get_params())\n",
    "\n",
    "X_tfidf = tfidf_vectorizer.fit_transform(processed_goodyear)\n",
    "\n",
    "df_tfidf = pd.DataFrame(X_tfidf.toarray(), columns=tfidf_vectorizer.get_feature_names())"
   ]
  },
  {
   "cell_type": "markdown",
   "metadata": {},
   "source": [
    "# LDA"
   ]
  },
  {
   "cell_type": "code",
   "execution_count": 12,
   "metadata": {
    "ExecuteTime": {
     "end_time": "2020-11-04T04:53:01.505158Z",
     "start_time": "2020-11-04T04:52:59.152240Z"
    }
   },
   "outputs": [
    {
     "data": {
      "text/plain": [
       "LatentDirichletAllocation(n_components=2, random_state=0)"
      ]
     },
     "execution_count": 12,
     "metadata": {},
     "output_type": "execute_result"
    }
   ],
   "source": [
    "# for TF DTM\n",
    "lda_cv = LatentDirichletAllocation(n_components=2, random_state=0)\n",
    "lda_cv.fit(df_cv)\n",
    "\n",
    "lda_tfidf = LatentDirichletAllocation(n_components=2, random_state=0)\n",
    "lda_tfidf.fit(df_tfidf)"
   ]
  },
  {
   "cell_type": "code",
   "execution_count": 13,
   "metadata": {
    "ExecuteTime": {
     "end_time": "2020-11-04T04:53:05.164727Z",
     "start_time": "2020-11-04T04:53:04.315868Z"
    },
    "scrolled": false
   },
   "outputs": [
    {
     "data": {
      "text/html": [
       "\n",
       "<link rel=\"stylesheet\" type=\"text/css\" href=\"https://cdn.rawgit.com/bmabey/pyLDAvis/files/ldavis.v1.0.0.css\">\n",
       "\n",
       "\n",
       "<div id=\"ldavis_el17211403168077888009359716312\"></div>\n",
       "<script type=\"text/javascript\">\n",
       "\n",
       "var ldavis_el17211403168077888009359716312_data = {\"mdsDat\": {\"x\": [0.11919783803248933, -0.11919783803248933], \"y\": [0.0, 0.0], \"topics\": [1, 2], \"cluster\": [1, 1], \"Freq\": [50.539173890359756, 49.46082610964023]}, \"tinfo\": {\"Term\": [\"great\", \"win\", \"right\", \"job\", \"good\", \"love\", \"thank\", \"know\", \"look\", \"come\", \"want\", \"trump\", \"tell\", \"lock\", \"election\", \"happen\", \"week\", \"americans\", \"work\", \"corrupt\", \"rand\", \"friend\", \"bad\", \"state\", \"way\", \"day\", \"remember\", \"hispanic\", \"new\", \"governor\", \"great\", \"job\", \"win\", \"good\", \"love\", \"tell\", \"lock\", \"happen\", \"americans\", \"governor\", \"hispanic\", \"run\", \"new\", \"latinos\", \"incredible\", \"usa\", \"rand\", \"business\", \"bring\", \"million\", \"strong\", \"senator\", \"quick\", \"quickly\", \"maybe\", \"china\", \"immune\", \"plan\", \"community\", \"feel\", \"know\", \"today\", \"work\", \"state\", \"time\", \"america\", \"think\", \"people\", \"president\", \"american\", \"arizona\", \"biden\", \"man\", \"like\", \"country\", \"year\", \"thank\", \"week\", \"election\", \"bad\", \"way\", \"corrupt\", \"friend\", \"day\", \"right\", \"remember\", \"look\", \"free\", \"martha\", \"medium\", \"word\", \"law\", \"oh\", \"house\", \"mean\", \"cnn\", \"lee\", \"fake\", \"come\", \"radical\", \"school\", \"ventilator\", \"drain\", \"washington\", \"group\", \"swamp\", \"trump\", \"news\", \"want\", \"world\", \"vote\", \"joe\", \"year\", \"country\", \"big\", \"mike\", \"like\", \"lose\", \"biden\", \"people\", \"lot\", \"thing\", \"number\", \"think\", \"little\"], \"Freq\": [52.0, 32.0, 34.0, 28.0, 24.0, 23.0, 21.0, 33.0, 20.0, 21.0, 29.0, 21.0, 13.0, 12.0, 11.0, 10.0, 9.0, 9.0, 13.0, 9.0, 10.0, 9.0, 9.0, 17.0, 9.0, 9.0, 9.0, 9.0, 9.0, 8.0, 52.480827847761745, 27.993536022791524, 32.50611642234807, 24.13673632173646, 22.57885002845966, 13.400000516787058, 11.80634702899805, 10.316045418443728, 9.567539588102111, 8.04992720213761, 8.768498037481834, 8.015031605163708, 8.735002306166894, 8.001825267822618, 7.274383957960221, 7.993591451932714, 10.147106199854495, 7.2410256005907225, 7.229339886730184, 7.943734744300294, 6.4840376459089075, 5.740865998132294, 5.735593893065794, 6.432528764542819, 5.715125384879789, 5.712250911898029, 5.711243530514272, 4.9850370261507875, 4.981345595401141, 4.978561967403178, 30.532504449511602, 5.679073230256224, 12.489988152059816, 15.062912460949155, 11.361331927137412, 15.763625677404372, 19.72615380505075, 20.712276263438284, 15.560717193611977, 12.932796340880218, 9.807748263443255, 13.097217342755641, 7.9139385444032655, 10.579155182856327, 10.468281026114628, 9.780887623569939, 20.83267164583006, 9.473453684076027, 10.852655476929645, 8.680229173336866, 8.668272593559134, 9.379172293731882, 9.375969101208362, 8.653756349616527, 33.11122194490688, 8.619330535641947, 19.365925161253447, 6.438744663705775, 6.429218045634064, 6.412524272395205, 5.68177912996545, 5.680632899051548, 5.677903500907607, 5.668669413758652, 6.375349523184142, 6.365519417410881, 6.365433311075288, 7.0650824957188405, 19.744121130531532, 4.9226956452361845, 4.922651232241861, 4.921433760354097, 4.9208917665495, 4.918670713651029, 4.918284640984871, 8.427883399319745, 18.927912787479983, 6.285795591694368, 25.256523917975226, 12.045547591276547, 18.69317541036162, 14.40240947650198, 16.11203679868243, 16.190951749482537, 8.8669423600454, 8.371254658843732, 14.565121972021455, 7.000909198080067, 11.318856940254369, 11.375691820520881, 8.26016799858239, 8.22620841450572, 7.472770725315249, 7.801270577851325, 7.073368913203545], \"Total\": [52.0, 32.0, 34.0, 28.0, 24.0, 23.0, 21.0, 33.0, 20.0, 21.0, 29.0, 21.0, 13.0, 12.0, 11.0, 10.0, 9.0, 9.0, 13.0, 9.0, 10.0, 9.0, 9.0, 17.0, 9.0, 9.0, 9.0, 9.0, 9.0, 8.0, 52.935317366076234, 28.383841339460357, 32.9863065007088, 24.547308729339015, 23.01251539158401, 13.805758064383294, 12.270539537090777, 10.736549625502825, 9.969514786190624, 8.43520021240521, 9.201879193595177, 8.434785384154269, 9.201481006521727, 8.434628391229753, 7.6678439605348085, 8.434530510129056, 10.734541327418494, 7.667447406521128, 7.667308490306401, 8.433937828741797, 6.900311734292692, 6.133340306121569, 6.133277632938889, 6.899699412366294, 6.133034309534622, 6.133000138673493, 6.132988163229712, 5.366218411527289, 5.366174528920478, 5.3661414379968475, 33.720981630922914, 6.13260573247788, 13.794940113975496, 17.61621040364909, 13.02338616231341, 19.140813928391392, 27.527424382902076, 32.08796808395917, 22.170949131999453, 18.349025060128092, 13.004917631907396, 24.416074283010012, 9.9498572795696, 25.144277154877784, 26.659232775597165, 25.892924422252367, 21.232585277654078, 9.860378427221676, 11.37830115857241, 9.102663727564925, 9.10280757375102, 9.86151269962004, 9.861551236311605, 9.10298221452342, 34.89550517362978, 9.10339638162935, 20.482973527921477, 6.827857116051252, 6.827971728064123, 6.828172566067713, 6.069706195029426, 6.069719985005187, 6.06975282161234, 6.069863914269547, 6.828619804826008, 6.828738068012489, 6.828739103933144, 7.587579581531585, 21.245681317067604, 5.311580754469217, 5.31158128878924, 5.311595935844745, 5.311602456416903, 5.3116291772680855, 5.311633821997738, 9.105699627282787, 21.255500885824535, 6.829697202521234, 29.619198499886917, 14.432980841315857, 25.861871483031045, 19.775430406720766, 25.892924422252367, 26.659232775597165, 11.40219070423655, 10.64089642445936, 25.144277154877784, 8.355609388602954, 24.416074283010012, 32.08796808395917, 15.245779415313477, 15.24618797334113, 14.487994609832135, 27.527424382902076, 12.19102642908378], \"Category\": [\"Default\", \"Default\", \"Default\", \"Default\", \"Default\", \"Default\", \"Default\", \"Default\", \"Default\", \"Default\", \"Default\", \"Default\", \"Default\", \"Default\", \"Default\", \"Default\", \"Default\", \"Default\", \"Default\", \"Default\", \"Default\", \"Default\", \"Default\", \"Default\", \"Default\", \"Default\", \"Default\", \"Default\", \"Default\", \"Default\", \"Topic1\", \"Topic1\", \"Topic1\", \"Topic1\", \"Topic1\", \"Topic1\", \"Topic1\", \"Topic1\", \"Topic1\", \"Topic1\", \"Topic1\", \"Topic1\", \"Topic1\", \"Topic1\", \"Topic1\", \"Topic1\", \"Topic1\", \"Topic1\", \"Topic1\", \"Topic1\", \"Topic1\", \"Topic1\", \"Topic1\", \"Topic1\", \"Topic1\", \"Topic1\", \"Topic1\", \"Topic1\", \"Topic1\", \"Topic1\", \"Topic1\", \"Topic1\", \"Topic1\", \"Topic1\", \"Topic1\", \"Topic1\", \"Topic1\", \"Topic1\", \"Topic1\", \"Topic1\", \"Topic1\", \"Topic1\", \"Topic1\", \"Topic1\", \"Topic1\", \"Topic1\", \"Topic2\", \"Topic2\", \"Topic2\", \"Topic2\", \"Topic2\", \"Topic2\", \"Topic2\", \"Topic2\", \"Topic2\", \"Topic2\", \"Topic2\", \"Topic2\", \"Topic2\", \"Topic2\", \"Topic2\", \"Topic2\", \"Topic2\", \"Topic2\", \"Topic2\", \"Topic2\", \"Topic2\", \"Topic2\", \"Topic2\", \"Topic2\", \"Topic2\", \"Topic2\", \"Topic2\", \"Topic2\", \"Topic2\", \"Topic2\", \"Topic2\", \"Topic2\", \"Topic2\", \"Topic2\", \"Topic2\", \"Topic2\", \"Topic2\", \"Topic2\", \"Topic2\", \"Topic2\", \"Topic2\", \"Topic2\", \"Topic2\", \"Topic2\", \"Topic2\", \"Topic2\", \"Topic2\", \"Topic2\", \"Topic2\"], \"logprob\": [30.0, 29.0, 28.0, 27.0, 26.0, 25.0, 24.0, 23.0, 22.0, 21.0, 20.0, 19.0, 18.0, 17.0, 16.0, 15.0, 14.0, 13.0, 12.0, 11.0, 10.0, 9.0, 8.0, 7.0, 6.0, 5.0, 4.0, 3.0, 2.0, 1.0, -3.5242, -4.1527, -4.0032, -4.3009, -4.3676, -4.8894, -5.016, -5.1509, -5.2263, -5.399, -5.3135, -5.4033, -5.3173, -5.405, -5.5003, -5.406, -5.1675, -5.5049, -5.5065, -5.4123, -5.6153, -5.737, -5.738, -5.6233, -5.7415, -5.742, -5.7422, -5.8782, -5.8789, -5.8795, -4.0659, -5.7479, -4.9597, -4.7724, -5.0544, -4.7269, -4.5027, -4.4539, -4.7399, -4.9249, -5.2015, -4.9122, -5.416, -5.1258, -5.1363, -5.2042, -4.4266, -5.2146, -5.0787, -5.302, -5.3034, -5.2246, -5.2249, -5.3051, -3.9632, -5.3091, -4.4996, -5.6007, -5.6022, -5.6048, -5.7258, -5.726, -5.7265, -5.7281, -5.6106, -5.6122, -5.6122, -5.5079, -4.4802, -5.8692, -5.8692, -5.8695, -5.8696, -5.87, -5.8701, -5.3315, -4.5224, -5.6248, -4.234, -4.9744, -4.5349, -4.7957, -4.6835, -4.6786, -5.2807, -5.3383, -4.7844, -5.517, -5.0366, -5.0316, -5.3516, -5.3558, -5.4518, -5.4088, -5.5067], \"loglift\": [30.0, 29.0, 28.0, 27.0, 26.0, 25.0, 24.0, 23.0, 22.0, 21.0, 20.0, 19.0, 18.0, 17.0, 16.0, 15.0, 14.0, 13.0, 12.0, 11.0, 10.0, 9.0, 8.0, 7.0, 6.0, 5.0, 4.0, 3.0, 2.0, 1.0, 0.6738, 0.6686, 0.6678, 0.6656, 0.6634, 0.6526, 0.6439, 0.6425, 0.6413, 0.6357, 0.6342, 0.6314, 0.6304, 0.6297, 0.6297, 0.6287, 0.6261, 0.6252, 0.6236, 0.6225, 0.6202, 0.6163, 0.6154, 0.6123, 0.6118, 0.6114, 0.6112, 0.6087, 0.608, 0.6075, 0.5831, 0.6056, 0.583, 0.5258, 0.5459, 0.4883, 0.3492, 0.2447, 0.3284, 0.3326, 0.4003, 0.0596, 0.4535, -0.1833, -0.2524, -0.2911, 0.685, 0.664, 0.6567, 0.6565, 0.6551, 0.6538, 0.6535, 0.6534, 0.6515, 0.6493, 0.6479, 0.6453, 0.6438, 0.6412, 0.6379, 0.6377, 0.6373, 0.6356, 0.6353, 0.6337, 0.6337, 0.6326, 0.6307, 0.628, 0.6279, 0.6277, 0.6276, 0.6271, 0.627, 0.6266, 0.588, 0.621, 0.5447, 0.5232, 0.3794, 0.3869, 0.2296, 0.2053, 0.4525, 0.4641, 0.158, 0.5271, -0.0648, -0.333, 0.0911, 0.087, 0.0419, -0.5569, 0.1596]}, \"token.table\": {\"Topic\": [1, 2, 1, 2, 1, 1, 2, 2, 1, 2, 1, 2, 1, 1, 1, 2, 1, 2, 1, 2, 1, 2, 2, 2, 1, 2, 1, 2, 1, 2, 2, 1, 1, 1, 2, 1, 1, 2, 1, 1, 1, 1, 2, 1, 2, 1, 2, 2, 1, 2, 1, 2, 1, 1, 2, 1, 2, 1, 2, 1, 1, 2, 2, 1, 2, 2, 1, 2, 1, 1, 1, 2, 1, 2, 2, 1, 2, 1, 1, 2, 1, 1, 2, 1, 2, 2, 1, 2, 1, 2, 1, 1, 2, 1, 1, 2, 1, 2, 1, 2, 1, 2, 1, 2, 1, 1, 2, 1, 2, 1, 2, 1, 2, 2, 2, 2, 1, 2, 1, 2, 1, 2, 1, 2], \"Freq\": [0.8359101164589113, 0.15673314683604586, 0.7084845084357441, 0.2724940417060554, 1.0030578432815611, 0.7689398951259122, 0.23068196853777367, 0.9887215730870035, 0.5324361258618091, 0.4505228757292231, 0.2631073341796794, 0.7893220025390383, 0.9129670481955874, 0.9129505073678801, 0.9783140166857619, 0.8786396461896079, 0.09413677867761816, 0.9413677867761816, 0.9317624637538313, 0.9126388896043065, 0.3751045682437499, 0.6001673091899998, 0.9886869805854266, 0.9413355086391191, 0.08788658219391567, 0.9667524041330723, 0.13179433431367657, 0.9225603401957361, 0.9317682095734088, 0.8787530110867309, 0.9126353232198142, 0.9777039212170388, 0.9484066529013522, 0.982330938726446, 0.9413299499850443, 0.9313979210086937, 0.978061090637259, 0.9884900361430995, 0.9783159269690033, 0.9129032927675502, 0.9864767656051288, 0.2528389975421586, 0.707949193118044, 0.9193089435917337, 0.08896538163790971, 0.9484709496293073, 0.9885134758806955, 0.8786395128998535, 0.43747529237944666, 0.5965572168810637, 0.41013773771104656, 0.5741928327954652, 0.9779521074625119, 0.048821036586159945, 0.9275996951370389, 0.11968007999081424, 0.8377605599356998, 0.45914346582824866, 0.5247353895179985, 0.9994561484752515, 0.8040316333407805, 0.20100790833519513, 0.8787382606373401, 0.9783085659038622, 0.8786548631334848, 0.878712414184832, 0.1879540896012072, 0.7518163584048289, 0.9485486094925917, 0.9781034154850808, 0.14641937561021628, 0.8785162536612977, 0.4831586557362134, 0.4831586557362134, 0.9885081281458491, 0.6544509127238236, 0.34280762095057427, 0.9317548442045134, 0.7216650899670827, 0.3157284768605987, 0.9782697538061673, 0.8696031002808952, 0.94133935472843, 0.9315721738811228, 0.09315721738811228, 0.9886419993928854, 0.05731397181524061, 0.9456805349514701, 0.9484532961596078, 0.9413392600341312, 0.9782597574133486, 0.8514884675135829, 0.17029769350271656, 0.8695259331809048, 0.10982132520644193, 0.8785706016515354, 0.9416360868685636, 0.9890458333447101, 0.4591311619822554, 0.5247213279797205, 0.7265481768945469, 0.29061927075781874, 0.8446344032884006, 0.15356989150698191, 0.9783769349828558, 0.09409328957916095, 0.893886251002029, 0.9484819564518467, 0.9413366642326889, 0.27066873349026443, 0.7346722766164321, 0.13504754357263488, 0.844047147328968, 0.9413307731266803, 0.9887059489154227, 0.9127438735164142, 1.0004151267827124, 0.9885157217187036, 0.8698841677350189, 0.07249034731125156, 0.1385715135348063, 0.8314290812088377, 0.38620589304335223, 0.6179294288693635], \"Term\": [\"america\", \"america\", \"american\", \"american\", \"americans\", \"arizona\", \"arizona\", \"bad\", \"biden\", \"biden\", \"big\", \"big\", \"bring\", \"business\", \"china\", \"cnn\", \"come\", \"come\", \"community\", \"corrupt\", \"country\", \"country\", \"day\", \"drain\", \"election\", \"election\", \"fake\", \"fake\", \"feel\", \"free\", \"friend\", \"good\", \"governor\", \"great\", \"group\", \"happen\", \"hispanic\", \"house\", \"immune\", \"incredible\", \"job\", \"joe\", \"joe\", \"know\", \"know\", \"latinos\", \"law\", \"lee\", \"like\", \"like\", \"little\", \"little\", \"lock\", \"look\", \"look\", \"lose\", \"lose\", \"lot\", \"lot\", \"love\", \"man\", \"man\", \"martha\", \"maybe\", \"mean\", \"medium\", \"mike\", \"mike\", \"million\", \"new\", \"news\", \"news\", \"number\", \"number\", \"oh\", \"people\", \"people\", \"plan\", \"president\", \"president\", \"quick\", \"quickly\", \"radical\", \"rand\", \"rand\", \"remember\", \"right\", \"right\", \"run\", \"school\", \"senator\", \"state\", \"state\", \"strong\", \"swamp\", \"swamp\", \"tell\", \"thank\", \"thing\", \"thing\", \"think\", \"think\", \"time\", \"time\", \"today\", \"trump\", \"trump\", \"usa\", \"ventilator\", \"vote\", \"vote\", \"want\", \"want\", \"washington\", \"way\", \"week\", \"win\", \"word\", \"work\", \"work\", \"world\", \"world\", \"year\", \"year\"]}, \"R\": 30, \"lambda.step\": 0.01, \"plot.opts\": {\"xlab\": \"PC1\", \"ylab\": \"PC2\"}, \"topic.order\": [2, 1]};\n",
       "\n",
       "function LDAvis_load_lib(url, callback){\n",
       "  var s = document.createElement('script');\n",
       "  s.src = url;\n",
       "  s.async = true;\n",
       "  s.onreadystatechange = s.onload = callback;\n",
       "  s.onerror = function(){console.warn(\"failed to load library \" + url);};\n",
       "  document.getElementsByTagName(\"head\")[0].appendChild(s);\n",
       "}\n",
       "\n",
       "if(typeof(LDAvis) !== \"undefined\"){\n",
       "   // already loaded: just create the visualization\n",
       "   !function(LDAvis){\n",
       "       new LDAvis(\"#\" + \"ldavis_el17211403168077888009359716312\", ldavis_el17211403168077888009359716312_data);\n",
       "   }(LDAvis);\n",
       "}else if(typeof define === \"function\" && define.amd){\n",
       "   // require.js is available: use it to load d3/LDAvis\n",
       "   require.config({paths: {d3: \"https://cdnjs.cloudflare.com/ajax/libs/d3/3.5.5/d3.min\"}});\n",
       "   require([\"d3\"], function(d3){\n",
       "      window.d3 = d3;\n",
       "      LDAvis_load_lib(\"https://cdn.rawgit.com/bmabey/pyLDAvis/files/ldavis.v1.0.0.js\", function(){\n",
       "        new LDAvis(\"#\" + \"ldavis_el17211403168077888009359716312\", ldavis_el17211403168077888009359716312_data);\n",
       "      });\n",
       "    });\n",
       "}else{\n",
       "    // require.js not available: dynamically load d3 & LDAvis\n",
       "    LDAvis_load_lib(\"https://cdnjs.cloudflare.com/ajax/libs/d3/3.5.5/d3.min.js\", function(){\n",
       "         LDAvis_load_lib(\"https://cdn.rawgit.com/bmabey/pyLDAvis/files/ldavis.v1.0.0.js\", function(){\n",
       "                 new LDAvis(\"#\" + \"ldavis_el17211403168077888009359716312\", ldavis_el17211403168077888009359716312_data);\n",
       "            })\n",
       "         });\n",
       "}\n",
       "</script>"
      ],
      "text/plain": [
       "PreparedData(topic_coordinates=              x    y  topics  cluster       Freq\n",
       "topic                                           \n",
       "1      0.119198  0.0       1        1  50.539174\n",
       "0     -0.119198  0.0       2        1  49.460826, topic_info=        Term       Freq      Total Category  logprob  loglift\n",
       "382    great  52.000000  52.000000  Default  30.0000  30.0000\n",
       "1064     win  32.000000  32.000000  Default  29.0000  29.0000\n",
       "812    right  34.000000  34.000000  Default  28.0000  28.0000\n",
       "485      job  28.000000  28.000000  Default  27.0000  27.0000\n",
       "372     good  24.000000  24.000000  Default  26.0000  26.0000\n",
       "...      ...        ...        ...      ...      ...      ...\n",
       "557      lot   8.260168  15.245779   Topic2  -5.3516   0.0911\n",
       "966    thing   8.226208  15.246188   Topic2  -5.3558   0.0870\n",
       "644   number   7.472771  14.487995   Topic2  -5.4518   0.0419\n",
       "967    think   7.801271  27.527424   Topic2  -5.4088  -0.5569\n",
       "545   little   7.073369  12.191026   Topic2  -5.5067   0.1596\n",
       "\n",
       "[125 rows x 6 columns], token_table=      Topic      Freq       Term\n",
       "term                            \n",
       "28        1  0.835910    america\n",
       "28        2  0.156733    america\n",
       "29        1  0.708485   american\n",
       "29        2  0.272494   american\n",
       "30        1  1.003058  americans\n",
       "...     ...       ...        ...\n",
       "1077      2  0.072490       work\n",
       "1078      1  0.138572      world\n",
       "1078      2  0.831429      world\n",
       "1088      1  0.386206       year\n",
       "1088      2  0.617929       year\n",
       "\n",
       "[124 rows x 3 columns], R=30, lambda_step=0.01, plot_opts={'xlab': 'PC1', 'ylab': 'PC2'}, topic_order=[2, 1])"
      ]
     },
     "execution_count": 13,
     "metadata": {},
     "output_type": "execute_result"
    }
   ],
   "source": [
    "# LDA Visualization for CountVectorizer\n",
    "pyLDAvis.enable_notebook()\n",
    "pyLDAvis.sklearn.prepare(lda_cv, X_cv, cv)"
   ]
  },
  {
   "cell_type": "code",
   "execution_count": null,
   "metadata": {},
   "outputs": [],
   "source": []
  },
  {
   "cell_type": "code",
   "execution_count": null,
   "metadata": {
    "ExecuteTime": {
     "end_time": "2020-11-04T04:53:10.883613Z",
     "start_time": "2020-11-04T04:53:09.595159Z"
    },
    "scrolled": true
   },
   "outputs": [],
   "source": [
    "# LDA Visualization for TF_IDF\n",
    "pyLDAvis.sklearn.prepare(lda_tfidf, X_tfidf, tfidf_vectorizer)"
   ]
  },
  {
   "cell_type": "code",
   "execution_count": null,
   "metadata": {},
   "outputs": [],
   "source": []
  }
 ],
 "metadata": {
  "kernelspec": {
   "display_name": "Python 3",
   "language": "python",
   "name": "python3"
  },
  "language_info": {
   "codemirror_mode": {
    "name": "ipython",
    "version": 3
   },
   "file_extension": ".py",
   "mimetype": "text/x-python",
   "name": "python",
   "nbconvert_exporter": "python",
   "pygments_lexer": "ipython3",
   "version": "3.8.3"
  },
  "toc": {
   "base_numbering": 1,
   "nav_menu": {},
   "number_sections": true,
   "sideBar": true,
   "skip_h1_title": false,
   "title_cell": "Table of Contents",
   "title_sidebar": "Contents",
   "toc_cell": false,
   "toc_position": {},
   "toc_section_display": true,
   "toc_window_display": false
  }
 },
 "nbformat": 4,
 "nbformat_minor": 4
}
